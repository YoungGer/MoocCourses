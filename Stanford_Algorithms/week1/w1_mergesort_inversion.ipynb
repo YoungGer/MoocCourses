{
 "cells": [
  {
   "cell_type": "code",
   "execution_count": 10,
   "metadata": {
    "collapsed": false
   },
   "outputs": [
    {
     "data": {
      "text/plain": [
       "'/Users/yangguangyao/Downloads'"
      ]
     },
     "execution_count": 10,
     "metadata": {},
     "output_type": "execute_result"
    }
   ],
   "source": [
    "#设置工作空间\n",
    "import os\n",
    "os.chdir(\"./Downloads/\")\n",
    "os.getcwd()"
   ]
  },
  {
   "cell_type": "code",
   "execution_count": 55,
   "metadata": {
    "collapsed": true
   },
   "outputs": [],
   "source": [
    "#获得数据列表\n",
    "l = [] #此项包含了1000个数据\n",
    "l_test = [1,3,5,2,4,6] #此项为简单的测试数据\n",
    "with open(\"IntegerArray.txt\",\"r\") as f:\n",
    "    for line in f:\n",
    "        l.append(float(line))"
   ]
  },
  {
   "cell_type": "code",
   "execution_count": 98,
   "metadata": {
    "collapsed": false
   },
   "outputs": [],
   "source": [
    "#定义MergeSort算法\n",
    "class MergeSort:\n",
    "    def __init__(self,l):\n",
    "        self.l = l\n",
    "        self.length = len(l)\n",
    "    def merge(self,a,b):\n",
    "        #preparation\n",
    "        i=0\n",
    "        i1=len(a)\n",
    "        j=0\n",
    "        j1=len(b)\n",
    "        n =i1+j1\n",
    "        l=[]\n",
    "        #iteration\n",
    "        for x in range(n):\n",
    "            if(a[i]<b[j]):\n",
    "                l.append(a[i])\n",
    "                i += 1\n",
    "                if (i==i1):\n",
    "                    for x in range(j,j1):\n",
    "                        l.append(b[x])\n",
    "                    break                  \n",
    "            else:\n",
    "                l.append(b[j])\n",
    "                j += 1\n",
    "                if (j==j1):\n",
    "                    for x in range(i,i1):\n",
    "                        l.append(a[x])\n",
    "                    break\n",
    "        return l\n",
    "                \n",
    "                \n",
    "    def sort(self,l):\n",
    "        n = len(l)\n",
    "        #基础情况\n",
    "        if (n==1):\n",
    "            return l\n",
    "        #非基础情况，分组\n",
    "        a = l[0:n/2]\n",
    "        b = l[n/2:]  #奇数的话b的个数比a多1\n",
    "        return self.merge(self.sort(a), self.sort(b))\n",
    "    \n",
    "    def test(self):\n",
    "        print self.l\n",
    "        print self.length"
   ]
  },
  {
   "cell_type": "code",
   "execution_count": 106,
   "metadata": {
    "collapsed": true
   },
   "outputs": [],
   "source": [
    "#Inversion算法\n",
    "class Inversion:\n",
    "    def __init__(self,l):\n",
    "        self.l = l\n",
    "        self.length = len(l)\n",
    "    def splitmerge(self,a,b):\n",
    "        # a,b is arrays which is sorted\n",
    "        #preparation\n",
    "        lena = len(a)\n",
    "        lenb = len(b)\n",
    "        ai = 0\n",
    "        bi = 0\n",
    "        n = lena+lenb\n",
    "        r_num = 0\n",
    "        for i in range(n):\n",
    "            if(a[ai]>b[bi]):\n",
    "                r_num += len(a[ai:])\n",
    "                bi += 1\n",
    "                if (bi==lenb):\n",
    "                    break                \n",
    "            else:     \n",
    "                ai += 1     \n",
    "                if (ai==lena):\n",
    "                    break \n",
    "        return r_num\n",
    "    def invers(self,l):\n",
    "        n = len(l)\n",
    "        #基础情况\n",
    "        if (n==1 or n==0):\n",
    "            return 0\n",
    "        #非基础情况，分组并排序\n",
    "        a = l[0:n/2]\n",
    "        a_sort = MergeSort([]).sort(a)\n",
    "        b = l[n/2:]  #奇数的话b的个数比a多1\n",
    "        b_sort = MergeSort([]).sort(b)\n",
    "        return self.invers(a)+self.invers(b)+self.splitmerge(a_sort,b_sort)\n",
    "    def test(self):\n",
    "        pass"
   ]
  }
 ],
 "metadata": {
  "kernelspec": {
   "display_name": "Python 2",
   "language": "python",
   "name": "python2"
  },
  "language_info": {
   "codemirror_mode": {
    "name": "ipython",
    "version": 2
   },
   "file_extension": ".py",
   "mimetype": "text/x-python",
   "name": "python",
   "nbconvert_exporter": "python",
   "pygments_lexer": "ipython2",
   "version": "2.7.10"
  }
 },
 "nbformat": 4,
 "nbformat_minor": 0
}
